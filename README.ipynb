{
 "cells": [
  {
   "attachments": {},
   "cell_type": "markdown",
   "metadata": {},
   "source": [
    "**joanapy\n**",
    "\n",
    "Joint continuous multi-Omics enrichment ANAlysis (JOANA) from MLO Lab.\n"
   ]
  },
  
  {
   "attachments": {},
   "cell_type": "markdown",
   "metadata": {},
   "source": [
    "Install joanapy\n",
    "We recommend utilizing conda for environment management, and pip for installing joanapy as a Python package. Follow these instructions to set up and activate joanapy"
   ]
  },
  {
   "cell_type": "code",
   "execution_count": null,
   "metadata": {
    "vscode": {
     "languageId": "plaintext"
    }
   },
   "outputs": [],
   "source": [
    "conda create -n joana python=3.11\n",
    "conda activate joana"
   ]
  },
  {
   "attachments": {},
   "cell_type": "markdown",
   "metadata": {},
   "source": [
    "Before installing joanapy try to install mono on your conda environment by the following command"
   ]
  },
  {
   "cell_type": "code",
   "execution_count": null,
   "metadata": {
    "vscode": {
     "languageId": "plaintext"
    }
   },
   "outputs": [],
   "source": [
    "conda install conda-forge::mono"
   ]
  },
  {
   "attachments": {},
   "cell_type": "markdown",
   "metadata": {},
   "source": [
    "Make sure that your working directory is JOANA-main which you have downloaded. Use pip to install joanapy on your conda environment."
   ]
  },
  {
   "cell_type": "code",
   "execution_count": null,
   "metadata": {
    "vscode": {
     "languageId": "plaintext"
    }
   },
   "outputs": [],
   "source": [
    "pip install ."
   ]
  },
  {
   "attachments": {},
   "cell_type": "markdown",
   "metadata": {},
   "source": [
    "after installing joanapy on joana environment run JOANA through run-joana function."
   ]
  },
  {
   "attachments": {},
   "cell_type": "markdown",
   "metadata": {},
   "source": [
    "run-joana [-o omics1.txt] [-o2 omics2.txt] [-p pathwayfile.gmt] [-d input-output-directory-path] [-m min-num-genes]\n",
    "-o input file-name. This file is a two-column tab delimited the first column is gene-name and second column signifficant score (e.g. q-values) coresponde to that gene.\n",
    "-o2 input file-name in the case of multi-omics the format of this file is also the same as the first file.\n",
    "-p the file-name of 'gmt' file which contains biological pathways that are going to test for enrichment.\n",
    "-d specify the path that all the input files are in. Also this path specifies the path of result directory of JOANA.\n",
    "-m its a number between [0,1) which specified by client (default value is 0). '-m 0.5' means JOANA consider pathways which atleast 50% of its genes have measurments.   "
   ]
  },
  {
   "attachments": {},
   "cell_type": "markdown",
   "metadata": {},
   "source": [
    "The input files -o and -o2 should be a two-column tab-delimited file (make sure files don't contain any header) with the following format:"
   ]
  },
  {
   "attachments": {},
   "cell_type": "markdown",
   "metadata": {},
   "source": [
    "A2ML1  0.025202476125022\n",
    "A3GALT2  0.878666355638669\n",
    "A4GALT  0.983155339235838\n",
    "A4GNT  0.971337673847852\n",
    "AAAS  0.0863723498889275\n",
    "AACS  0.230709278931887\n",
    "AADAC  0.881216487254285"
   ]
  },
  {
   "attachments": {},
   "cell_type": "markdown",
   "metadata": {},
   "source": [
    "The 'gmt' file could be downloaded from msigDB or any other desired biological pathway file with gmt format.\n",
    "\n",
    "To execute JAOAN on single-omics data if you are already in the directory of input data, the command line would be:"
   ]
  },
  {
   "cell_type": "code",
   "execution_count": null,
   "metadata": {
    "vscode": {
     "languageId": "plaintext"
    }
   },
   "outputs": [],
   "source": [
    "run-joana -o omics1.txt -p pathway.gmt -d ./ -m 0.7\n"
   ]
  },
  {
   "attachments": {},
   "cell_type": "markdown",
   "metadata": {},
   "source": [
    "And to execute JAOAN on multi-omics data if you are already in the directory of input data, the command line would be:"
   ]
  },
  {
   "cell_type": "code",
   "execution_count": null,
   "metadata": {
    "vscode": {
     "languageId": "plaintext"
    }
   },
   "outputs": [],
   "source": [
    "run-joana -o omics1.txt -o2 omics2.txt -p pathway.gmt -d ./ -m 0.7\n"
   ]
  },
  {
   "attachments": {},
   "cell_type": "markdown",
   "metadata": {},
   "source": [
    "Note: When dealing with multi-omics data, the '-o' input file serves as the reference file, and missing values in the second modality '-o2' are handled based on the reference data-modality. It's crucial to select the file with more gene measurements as the reference, as this provides better data integrity and completeness."
   ]
  }
 ],
 "metadata": {
  "language_info": {
   "name": "python"
  },
  "orig_nbformat": 4
 },
 "nbformat": 4,
 "nbformat_minor": 2
}
