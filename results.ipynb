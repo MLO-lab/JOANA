{
 "cells": [
  {
   "attachments": {},
   "cell_type": "markdown",
   "metadata": {},
   "source": [
    "Example to show how joana works and what is the results"
   ]
  },
  {
   "cell_type": "code",
   "execution_count": null,
   "metadata": {},
   "outputs": [],
   "source": [
    "cd testJOANA\n",
    "run-joana -o omics1.txt -o2 omics2.txt -p h.all.v6.2.symbols.gmt -d ./ -m 0.0"
   ]
  },
  {
   "attachments": {},
   "cell_type": "markdown",
   "metadata": {},
   "source": [
    "You will get these reults\n",
    "\n",
    "1- A pdf file that contains barplots which shows probabilities more that 0.5 for cooperative data (multi-omics) and probablies for each single omics data which is more than 0.5 and doesn't show up in cooperative.\n",
    "\n",
    
   ]
  },
  {
   "attachments": {},
   "cell_type": "markdown",
   "metadata": {},
   "source": [
    "I can't see the reults"
   ]
  }
 ],
 "metadata": {
  "kernelspec": {
   "display_name": "Python 3",
   "language": "python",
   "name": "python3"
  },
  "language_info": {
   "name": "python",
   "version": "3.11.3"
  },
  "orig_nbformat": 4
 },
 "nbformat": 4,
 "nbformat_minor": 2
}
